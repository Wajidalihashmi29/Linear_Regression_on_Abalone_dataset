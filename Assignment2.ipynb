{
 "cells": [
  {
   "cell_type": "code",
   "execution_count": 140,
   "metadata": {},
   "outputs": [],
   "source": [
    "import numpy as np\n",
    "import pandas as pd\n",
    "from sklearn.model_selection import train_test_split"
   ]
  },
  {
   "cell_type": "code",
   "execution_count": 141,
   "metadata": {},
   "outputs": [
    {
     "data": {
      "text/html": [
       "<div>\n",
       "<style scoped>\n",
       "    .dataframe tbody tr th:only-of-type {\n",
       "        vertical-align: middle;\n",
       "    }\n",
       "\n",
       "    .dataframe tbody tr th {\n",
       "        vertical-align: top;\n",
       "    }\n",
       "\n",
       "    .dataframe thead th {\n",
       "        text-align: right;\n",
       "    }\n",
       "</style>\n",
       "<table border=\"1\" class=\"dataframe\">\n",
       "  <thead>\n",
       "    <tr style=\"text-align: right;\">\n",
       "      <th></th>\n",
       "      <th>Sex</th>\n",
       "      <th>Length</th>\n",
       "      <th>Diameter</th>\n",
       "      <th>Height</th>\n",
       "      <th>Whole weight</th>\n",
       "      <th>Shucked weight</th>\n",
       "      <th>Viscera weight</th>\n",
       "      <th>Shell weight</th>\n",
       "      <th>Rings</th>\n",
       "    </tr>\n",
       "  </thead>\n",
       "  <tbody>\n",
       "    <tr>\n",
       "      <th>0</th>\n",
       "      <td>M</td>\n",
       "      <td>0.455</td>\n",
       "      <td>0.365</td>\n",
       "      <td>0.095</td>\n",
       "      <td>0.5140</td>\n",
       "      <td>0.2245</td>\n",
       "      <td>0.1010</td>\n",
       "      <td>0.150</td>\n",
       "      <td>15</td>\n",
       "    </tr>\n",
       "    <tr>\n",
       "      <th>1</th>\n",
       "      <td>M</td>\n",
       "      <td>0.350</td>\n",
       "      <td>0.265</td>\n",
       "      <td>0.090</td>\n",
       "      <td>0.2255</td>\n",
       "      <td>0.0995</td>\n",
       "      <td>0.0485</td>\n",
       "      <td>0.070</td>\n",
       "      <td>7</td>\n",
       "    </tr>\n",
       "    <tr>\n",
       "      <th>2</th>\n",
       "      <td>F</td>\n",
       "      <td>0.530</td>\n",
       "      <td>0.420</td>\n",
       "      <td>0.135</td>\n",
       "      <td>0.6770</td>\n",
       "      <td>0.2565</td>\n",
       "      <td>0.1415</td>\n",
       "      <td>0.210</td>\n",
       "      <td>9</td>\n",
       "    </tr>\n",
       "    <tr>\n",
       "      <th>3</th>\n",
       "      <td>M</td>\n",
       "      <td>0.440</td>\n",
       "      <td>0.365</td>\n",
       "      <td>0.125</td>\n",
       "      <td>0.5160</td>\n",
       "      <td>0.2155</td>\n",
       "      <td>0.1140</td>\n",
       "      <td>0.155</td>\n",
       "      <td>10</td>\n",
       "    </tr>\n",
       "    <tr>\n",
       "      <th>4</th>\n",
       "      <td>I</td>\n",
       "      <td>0.330</td>\n",
       "      <td>0.255</td>\n",
       "      <td>0.080</td>\n",
       "      <td>0.2050</td>\n",
       "      <td>0.0895</td>\n",
       "      <td>0.0395</td>\n",
       "      <td>0.055</td>\n",
       "      <td>7</td>\n",
       "    </tr>\n",
       "  </tbody>\n",
       "</table>\n",
       "</div>"
      ],
      "text/plain": [
       "  Sex  Length  Diameter  Height  Whole weight  Shucked weight  Viscera weight  \\\n",
       "0   M   0.455     0.365   0.095        0.5140          0.2245          0.1010   \n",
       "1   M   0.350     0.265   0.090        0.2255          0.0995          0.0485   \n",
       "2   F   0.530     0.420   0.135        0.6770          0.2565          0.1415   \n",
       "3   M   0.440     0.365   0.125        0.5160          0.2155          0.1140   \n",
       "4   I   0.330     0.255   0.080        0.2050          0.0895          0.0395   \n",
       "\n",
       "   Shell weight  Rings  \n",
       "0         0.150     15  \n",
       "1         0.070      7  \n",
       "2         0.210      9  \n",
       "3         0.155     10  \n",
       "4         0.055      7  "
      ]
     },
     "execution_count": 141,
     "metadata": {},
     "output_type": "execute_result"
    }
   ],
   "source": [
    "df = pd.read_csv(\"D:\\\\DESKTOP\\\\Pattern recognition\\\\Regression_on_Abalone_dataset\\\\Abalone dataset\\\\abalone.csv\")\n",
    "df.head()"
   ]
  },
  {
   "cell_type": "code",
   "execution_count": 142,
   "metadata": {},
   "outputs": [],
   "source": [
    "#data Preprocessing\n",
    "abalone_data = pd.get_dummies(df, columns=['Sex'])\n",
    "abalone_data = abalone_data.apply(pd.to_numeric, errors='coerce')\n",
    "abalone_data.dropna(inplace=True)\n",
    "X = abalone_data.drop(columns=['Rings']).values\n",
    "y = abalone_data['Rings'].values.reshape(-1, 1)"
   ]
  },
  {
   "cell_type": "code",
   "execution_count": 143,
   "metadata": {},
   "outputs": [
    {
     "name": "stdout",
     "output_type": "stream",
     "text": [
      "   Length  Diameter  Height  Whole weight  Shucked weight  Viscera weight  \\\n",
      "0   0.455     0.365   0.095        0.5140          0.2245          0.1010   \n",
      "1   0.350     0.265   0.090        0.2255          0.0995          0.0485   \n",
      "2   0.530     0.420   0.135        0.6770          0.2565          0.1415   \n",
      "3   0.440     0.365   0.125        0.5160          0.2155          0.1140   \n",
      "4   0.330     0.255   0.080        0.2050          0.0895          0.0395   \n",
      "\n",
      "   Shell weight  Rings  Sex_F  Sex_I  Sex_M  \n",
      "0         0.150     15  False  False   True  \n",
      "1         0.070      7  False  False   True  \n",
      "2         0.210      9   True  False  False  \n",
      "3         0.155     10  False  False   True  \n",
      "4         0.055      7  False   True  False  \n"
     ]
    }
   ],
   "source": [
    "print(abalone_data.head())"
   ]
  },
  {
   "cell_type": "code",
   "execution_count": 144,
   "metadata": {},
   "outputs": [],
   "source": [
    "X_train, X_test, y_train, y_test = train_test_split(X, y, test_size=0.2, random_state=0)"
   ]
  },
  {
   "cell_type": "code",
   "execution_count": 145,
   "metadata": {},
   "outputs": [],
   "source": [
    "class LinearRegression:\n",
    "    def __init__(self):\n",
    "        self.coefficients = None\n",
    "\n",
    "    def fit(self, X, y):\n",
    "        X = np.array(X, dtype=float)  # Convert to numpy array with float type\n",
    "        y = np.array(y, dtype=float)\n",
    "        X = np.c_[np.ones(X.shape[0]), X]  # Adding intercept term\n",
    "        print(\"X dtype:\", X.dtype)\n",
    "        print(\"y dtype:\", y.dtype)\n",
    "        print(\"X shape:\", X.shape)\n",
    "        print(\"y shape:\", y.shape)\n",
    "        XTX = np.dot(X.T, X)\n",
    "        print(\"XTX shape:\", XTX.shape)\n",
    "        XTX_inv = np.linalg.inv(XTX)\n",
    "        print(\"XTX_inv shape:\", XTX_inv.shape)\n",
    "        XTy = np.dot(X.T, y)\n",
    "        print(\"XTy shape:\", XTy.shape)\n",
    "        self.coefficients = np.dot(XTX_inv, XTy)\n",
    "\n",
    "    def predict(self, X):\n",
    "        X = np.c_[np.ones(X.shape[0]), X]  # Adding intercept term\n",
    "        return np.dot(X, self.coefficients)"
   ]
  },
  {
   "cell_type": "code",
   "execution_count": 146,
   "metadata": {},
   "outputs": [
    {
     "name": "stdout",
     "output_type": "stream",
     "text": [
      "X dtype: float64\n",
      "y dtype: float64\n",
      "X shape: (3341, 11)\n",
      "y shape: (3341, 1)\n",
      "XTX shape: (11, 11)\n",
      "XTX_inv shape: (11, 11)\n",
      "XTy shape: (11, 1)\n"
     ]
    }
   ],
   "source": [
    "model = LinearRegression()\n",
    "model.fit(X_train, y_train)"
   ]
  },
  {
   "cell_type": "code",
   "execution_count": 147,
   "metadata": {},
   "outputs": [
    {
     "name": "stdout",
     "output_type": "stream",
     "text": [
      "X dtype: float64\n",
      "y dtype: float64\n",
      "X shape: (3341, 11)\n",
      "y shape: (3341, 1)\n",
      "XTX shape: (11, 11)\n",
      "XTX_inv shape: (11, 11)\n",
      "XTy shape: (11, 1)\n"
     ]
    }
   ],
   "source": [
    "model = LinearRegression()\n",
    "model.fit(X_train, y_train)\n",
    "y_train_pred = model.predict(X_train)\n",
    "y_test_pred = model.predict(X_test)"
   ]
  },
  {
   "cell_type": "code",
   "execution_count": 148,
   "metadata": {},
   "outputs": [
    {
     "name": "stdout",
     "output_type": "stream",
     "text": [
      "Linear Regression (Implemented from Scratch) Results:\n",
      "Training RMSE: 28.38604727410967\n",
      "Testing RMSE: 27.447472962514897\n"
     ]
    }
   ],
   "source": [
    "train_rmse = np.sqrt(np.mean((y_train_pred - y_train) ** 2))\n",
    "test_rmse = np.sqrt(np.mean((y_test_pred - y_test) ** 2))\n",
    "print(\"Linear Regression (Implemented from Scratch) Results:\")\n",
    "print(f\"Training RMSE: {train_rmse}\")\n",
    "print(f\"Testing RMSE: {test_rmse}\")"
   ]
  },
  {
   "cell_type": "code",
   "execution_count": 149,
   "metadata": {},
   "outputs": [],
   "source": [
    "#Ridge regression\n",
    "from sklearn.linear_model import Ridge\n",
    "import matplotlib.pyplot as plt\n"
   ]
  },
  {
   "cell_type": "code",
   "execution_count": 150,
   "metadata": {},
   "outputs": [],
   "source": [
    "alphas = np.logspace(-3, 3, 10)\n",
    "ridge_rmse = []\n",
    "for alpha in alphas:\n",
    "    ridge_model = Ridge(alpha=alpha)\n",
    "    ridge_model.fit(X_train, y_train)\n",
    "    y_test_pred_ridge = ridge_model.predict(X_test)\n",
    "    ridge_rmse.append(np.sqrt(np.mean((y_test_pred_ridge - y_test) ** 2)))\n"
   ]
  },
  {
   "cell_type": "code",
   "execution_count": 151,
   "metadata": {},
   "outputs": [
    {
     "data": {
      "image/png": "[encoded data removed]",
      "text/plain": [
       "<Figure size 1000x600 with 1 Axes>"
      ]
     },
     "metadata": {},
     "output_type": "display_data"
    }
   ],
   "source": [
    "plt.figure(figsize=(10, 6))\n",
    "plt.plot(np.log10(alphas), ridge_rmse, marker='o')\n",
    "plt.xlabel('log10(Alpha)')\n",
    "plt.ylabel('RMSE')\n",
    "plt.title('Ridge Regression: Effect of Alpha on Testing Data RMSE')\n",
    "plt.grid(True)\n",
    "plt.show()"
   ]
  },
  {
   "cell_type": "code",
   "execution_count": 152,
   "metadata": {},
   "outputs": [],
   "source": [
    "best_alpha_ridge = alphas[np.argmin(ridge_rmse)]\n",
    "best_ridge_model = Ridge(alpha=best_alpha_ridge)\n",
    "best_ridge_model.fit(X_train, y_train)\n",
    "ridge_coefficients = best_ridge_model.coef_\n"
   ]
  },
  {
   "cell_type": "code",
   "execution_count": 153,
   "metadata": {},
   "outputs": [
    {
     "name": "stdout",
     "output_type": "stream",
     "text": [
      "Ridge Regression Results:\n",
      "Best Alpha: 0.001\n",
      "Coefficients: [[ -0.29688398  11.24671208   8.09620299   9.36998881 -20.16566223\n",
      "  -10.66723044   8.3432274    0.25167453  -0.57848757   0.32681305]]\n"
     ]
    }
   ],
   "source": [
    "print(\"Ridge Regression Results:\")\n",
    "print(f\"Best Alpha: {best_alpha_ridge}\")\n",
    "print(f\"Coefficients: {ridge_coefficients}\")"
   ]
  },
  {
   "cell_type": "code",
   "execution_count": 154,
   "metadata": {},
   "outputs": [],
   "source": [
    "#Lasso Regression\n",
    "from sklearn.linear_model import Lasso\n"
   ]
  },
  {
   "cell_type": "code",
   "execution_count": 155,
   "metadata": {},
   "outputs": [
    {
     "name": "stderr",
     "output_type": "stream",
     "text": [
      "c:\\Users\\wajid\\AppData\\Local\\Programs\\Python\\Python312\\Lib\\site-packages\\sklearn\\linear_model\\_coordinate_descent.py:1623: DataConversionWarning: A column-vector y was passed when a 1d array was expected. Please change the shape of y to (n_samples, ), for example using ravel().\n",
      "  y = column_or_1d(y, warn=True)\n"
     ]
    }
   ],
   "source": [
    "lasso_cv = LassoCV(alphas=alphas, cv=5)\n",
    "lasso_cv.fit(X_train, y_train)\n",
    "best_alpha_lasso = lasso_cv.alpha_\n"
   ]
  },
  {
   "cell_type": "code",
   "execution_count": 156,
   "metadata": {},
   "outputs": [
    {
     "data": {
      "image/png": "[encoded data removed]",
      "text/plain": [
       "<Figure size 1000x600 with 1 Axes>"
      ]
     },
     "metadata": {},
     "output_type": "display_data"
    }
   ],
   "source": [
    "plt.figure(figsize=(10, 6))\n",
    "plt.plot(np.log10(alphas), lasso_cv.mse_path_.mean(axis=1))\n",
    "plt.xlabel('log10(Alpha)')\n",
    "plt.ylabel('Mean RMSE')\n",
    "plt.title('Lasso Regression: Effect of Alpha on Mean RMSE')\n",
    "plt.grid(True)\n",
    "plt.show()"
   ]
  },
  {
   "cell_type": "code",
   "execution_count": 157,
   "metadata": {},
   "outputs": [],
   "source": [
    "best_lasso_model = Lasso(alpha=best_alpha_lasso)\n",
    "best_lasso_model.fit(X_train, y_train)\n",
    "lasso_coefficients = best_lasso_model.coef_"
   ]
  },
  {
   "cell_type": "code",
   "execution_count": 158,
   "metadata": {},
   "outputs": [
    {
     "name": "stdout",
     "output_type": "stream",
     "text": [
      "Lasso Regression Results:\n",
      "Best Alpha: 0.001\n",
      "Coefficients: [  0.          10.44535663   6.74592122   8.61280194 -19.39301347\n",
      "  -8.83981434   9.03641293  -0.          -0.84583421   0.06774797]\n"
     ]
    }
   ],
   "source": [
    "print(\"Lasso Regression Results:\")\n",
    "print(f\"Best Alpha: {best_alpha_lasso}\")\n",
    "print(f\"Coefficients: {lasso_coefficients}\")"
   ]
  },
  {
   "cell_type": "code",
   "execution_count": 159,
   "metadata": {},
   "outputs": [],
   "source": [
    "from sklearn.model_selection import GridSearchCV\n",
    "from sklearn.linear_model import Ridge, Lasso\n"
   ]
  },
  {
   "cell_type": "code",
   "execution_count": 160,
   "metadata": {},
   "outputs": [],
   "source": [
    "ridge_params = {'alpha': np.logspace(-3, 3, 10)}\n",
    "ridge_grid = GridSearchCV(Ridge(), ridge_params, cv=5, scoring='neg_mean_squared_error')\n",
    "ridge_grid.fit(X_train, y_train)\n",
    "best_alpha_ridge_grid = ridge_grid.best_params_['alpha']"
   ]
  },
  {
   "cell_type": "code",
   "execution_count": 161,
   "metadata": {},
   "outputs": [
    {
     "name": "stdout",
     "output_type": "stream",
     "text": [
      "Ridge Regression with GridSearchCV Results:\n",
      "Best Alpha: 0.46415888336127775\n",
      "Coefficients: [[  1.95996929   8.07034739   6.86174188   8.01539628 -18.62875483\n",
      "   -8.45783363   9.62983073   0.26764849  -0.59896431   0.33131583]]\n"
     ]
    }
   ],
   "source": [
    "best_ridge_model_grid = Ridge(alpha=best_alpha_ridge_grid)\n",
    "best_ridge_model_grid.fit(X_train, y_train)\n",
    "ridge_coefficients_grid = best_ridge_model_grid.coef_\n",
    "\n",
    "print(\"Ridge Regression with GridSearchCV Results:\")\n",
    "print(f\"Best Alpha: {best_alpha_ridge_grid}\")\n",
    "print(f\"Coefficients: {ridge_coefficients_grid}\")\n"
   ]
  },
  {
   "cell_type": "code",
   "execution_count": 162,
   "metadata": {},
   "outputs": [],
   "source": [
    "lasso_params = {'alpha': np.logspace(-3, 3, 10)}\n",
    "lasso_grid = GridSearchCV(Lasso(), lasso_params, cv=5, scoring='neg_mean_squared_error')\n",
    "lasso_grid.fit(X_train, y_train)\n",
    "best_alpha_lasso_grid = lasso_grid.best_params_['alpha']"
   ]
  },
  {
   "cell_type": "code",
   "execution_count": 163,
   "metadata": {},
   "outputs": [
    {
     "name": "stdout",
     "output_type": "stream",
     "text": [
      "Lasso Regression with GridSearchCV Results:\n",
      "Best Alpha: 0.001\n",
      "Coefficients: [  0.          10.44535663   6.74592122   8.61280194 -19.39301347\n",
      "  -8.83981434   9.03641293  -0.          -0.84583421   0.06774797]\n"
     ]
    }
   ],
   "source": [
    "best_lasso_model_grid = Lasso(alpha=best_alpha_lasso_grid)\n",
    "best_lasso_model_grid.fit(X_train, y_train)\n",
    "lasso_coefficients_grid = best_lasso_model_grid.coef_\n",
    "\n",
    "print(\"Lasso Regression with GridSearchCV Results:\")\n",
    "print(f\"Best Alpha: {best_alpha_lasso_grid}\")\n",
    "print(f\"Coefficients: {lasso_coefficients_grid}\")"
   ]
  },
  {
   "cell_type": "code",
   "execution_count": 164,
   "metadata": {},
   "outputs": [
    {
     "name": "stdout",
     "output_type": "stream",
     "text": [
      "Comparing Coefficients:\n",
      "Ridge Regression:\n",
      "Coefficients from Q1.II.a: [[ -0.29688398  11.24671208   8.09620299   9.36998881 -20.16566223\n",
      "  -10.66723044   8.3432274    0.25167453  -0.57848757   0.32681305]]\n",
      "Coefficients from GridSearchCV: [[  1.95996929   8.07034739   6.86174188   8.01539628 -18.62875483\n",
      "   -8.45783363   9.62983073   0.26764849  -0.59896431   0.33131583]]\n",
      "\n",
      "Lasso Regression:\n",
      "Coefficients from Q1.II.a: [  0.          10.44535663   6.74592122   8.61280194 -19.39301347\n",
      "  -8.83981434   9.03641293  -0.          -0.84583421   0.06774797]\n",
      "Coefficients from GridSearchCV: [  0.          10.44535663   6.74592122   8.61280194 -19.39301347\n",
      "  -8.83981434   9.03641293  -0.          -0.84583421   0.06774797]\n"
     ]
    }
   ],
   "source": [
    "print(\"Comparing Coefficients:\")\n",
    "print(\"Ridge Regression:\")\n",
    "print(\"Coefficients from Q1.II.a:\", ridge_coefficients)\n",
    "print(\"Coefficients from GridSearchCV:\", ridge_coefficients_grid)\n",
    "\n",
    "print(\"\\nLasso Regression:\")\n",
    "print(\"Coefficients from Q1.II.a:\", lasso_coefficients)\n",
    "print(\"Coefficients from GridSearchCV:\", lasso_coefficients_grid)"
   ]
  }
 ],
 "metadata": {
  "kernelspec": {
   "display_name": "Python 3",
   "language": "python",
   "name": "python3"
  },
  "language_info": {
   "codemirror_mode": {
    "name": "ipython",
    "version": 3
   },
   "file_extension": ".py",
   "mimetype": "text/x-python",
   "name": "python",
   "nbconvert_exporter": "python",
   "pygments_lexer": "ipython3",
   "version": "3.12.2"
  }
 },
 "nbformat": 4,
 "nbformat_minor": 2
}
